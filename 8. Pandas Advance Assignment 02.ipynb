{
 "cells": [
  {
   "cell_type": "markdown",
   "id": "fb835eda-8090-4ace-90d4-3e3879685ee1",
   "metadata": {},
   "source": [
    "Consider following code to answer further questions:\n",
    "import pandas as pd\n",
    "course_name = [‘Data Science’, ‘Machine Learning’, ‘Big Data’, ‘Data Engineer’]\n",
    "duration = [2,3,6,4]\n",
    "df = pd.DataFrame(data = {‘course_name’ : course_name, ‘duration’ : duration})\n",
    "\n",
    "Q1. Write a code to print the data present in the second row of the dataframe, df."
   ]
  },
  {
   "cell_type": "code",
   "execution_count": 1,
   "id": "97144c02-a3a1-41e2-b083-35ef1f72fd34",
   "metadata": {},
   "outputs": [
    {
     "name": "stdout",
     "output_type": "stream",
     "text": [
      "course_name    Machine Learning\n",
      "duration                      3\n",
      "Name: 1, dtype: object\n"
     ]
    }
   ],
   "source": [
    "import pandas as pd\n",
    "course_name = [\"Data Science\", \"Machine Learning\", \"Big Data\", \"Data Engineer\"]\n",
    "duration = [2,3,6,4]\n",
    "df = pd.DataFrame(data = {\"course_name\" : course_name, \"duration\" : duration})\n",
    "\n",
    "print(df.iloc[1])"
   ]
  },
  {
   "cell_type": "code",
   "execution_count": null,
   "id": "68d6cd26-ca1a-4cee-a5c7-e025324ff96f",
   "metadata": {},
   "outputs": [],
   "source": []
  },
  {
   "cell_type": "markdown",
   "id": "5c1c320d-d6af-4322-a227-85a05216d92d",
   "metadata": {},
   "source": [
    "Q2. What is the difference between the functions loc and iloc in pandas.DataFrame?"
   ]
  },
  {
   "cell_type": "markdown",
   "id": "0c2c9d40-9cbe-4a39-9734-902db8a49f8b",
   "metadata": {},
   "source": [
    "ANS : In Pandas, loc and iloc are two methods used for indexing and selecting data from a DataFrame.\n",
    "\n",
    "      loc is used for selecting data based on the label/index of the rows or columns.\n",
    "      \n",
    "      iloc is used for selecting data based on the integer location of the rows or columns. "
   ]
  },
  {
   "cell_type": "markdown",
   "id": "09f2ffe1-005e-4d99-b70d-287d02980586",
   "metadata": {},
   "source": [
    "Q3. Reindex the given dataframe using a variable, reindex = [3,0,1,2] and store it in the variable, new_df\n",
    "then find the output for both new_df.loc[2] and new_df.iloc[2].\n",
    "Did you observe any difference in both the outputs? If so then explain it."
   ]
  },
  {
   "cell_type": "code",
   "execution_count": 2,
   "id": "d15a8b5c-b085-4fa9-9ac6-ca777e3e86f9",
   "metadata": {},
   "outputs": [
    {
     "name": "stdout",
     "output_type": "stream",
     "text": [
      "course_name    Big Data\n",
      "duration              6\n",
      "Name: 2, dtype: object\n",
      "course_name    Machine Learning\n",
      "duration                      3\n",
      "Name: 1, dtype: object\n"
     ]
    }
   ],
   "source": [
    "import pandas as pd\n",
    "course_name = [\"Data Science\", \"Machine Learning\", \"Big Data\", \"Data Engineer\"]\n",
    "duration = [2,3,6,4]\n",
    "df = pd.DataFrame(data = {\"course_name\" : course_name, \"duration\" : duration})\n",
    "\n",
    "reindex = [3, 0, 1, 2]\n",
    "\n",
    "new_df = df.reindex(index=reindex)\n",
    "\n",
    "print(new_df.loc[2])\n",
    "print(new_df.iloc[2])\n",
    "\n",
    "#The difference in the output is because loc and iloc use different methods to select rows. \n",
    "#loc uses labels to select rows, while iloc uses integer indices to select rows."
   ]
  },
  {
   "cell_type": "code",
   "execution_count": null,
   "id": "70ad4af0-7679-4822-a00d-92c031780333",
   "metadata": {},
   "outputs": [],
   "source": []
  },
  {
   "cell_type": "markdown",
   "id": "b7609db8-4d4b-4ba1-b416-10db268fee28",
   "metadata": {},
   "source": [
    "Consider the below code to answer further questions:\n",
    "import pandas as pd\n",
    "import numpy as np\n",
    "columns = ['column_1', 'column_2', 'column_3', 'column_4', 'column_5', 'column_6']\n",
    "indices = [1,2,3,4,5,6]\n",
    "#Creating a dataframe:\n",
    "df1 = pd.DataFrame(np.random.rand(6,6), columns = columns, index = indices)\n",
    "\n",
    "Q4. Write a code to find the following statistical measurements for the above dataframe df1:\n",
    "(i) mean of each and every column present in the dataframe.\n",
    "(ii) standard deviation of 'column_1', 'column_2'"
   ]
  },
  {
   "cell_type": "code",
   "execution_count": 3,
   "id": "387344a1-41ea-4ffe-a460-b35661fc6584",
   "metadata": {},
   "outputs": [
    {
     "name": "stdout",
     "output_type": "stream",
     "text": [
      "Mean of each column:\n",
      " column_1    0.537094\n",
      "column_2    0.547491\n",
      "column_3    0.326296\n",
      "column_4    0.838005\n",
      "column_5    0.519342\n",
      "column_6    0.541362\n",
      "dtype: float64\n",
      "Standard deviation of column_1:\n",
      " 0.30856916210377305 Standard deviation of column_2:\n",
      " 0.3560742068576845\n"
     ]
    }
   ],
   "source": [
    "import pandas as pd\n",
    "import numpy as np\n",
    "columns = ['column_1', 'column_2', 'column_3', 'column_4', 'column_5', 'column_6']\n",
    "indices = [1,2,3,4,5,6]\n",
    "#Creating a dataframe:\n",
    "df1 = pd.DataFrame(np.random.rand(6,6), columns = columns, index = indices)\n",
    "\n",
    "# (i)Mean of each column\n",
    "column_means = df1.mean()\n",
    "print(\"Mean of each column:\\n\", column_means)\n",
    "\n",
    "# (ii)Standard deviation of column_2\n",
    "column_1_std = df1['column_1'].std()\n",
    "column_2_std = df1['column_2'].std()\n",
    "print(\"Standard deviation of column_1:\\n\", column_1_std , \"Standard deviation of column_2:\\n\", column_2_std)"
   ]
  },
  {
   "cell_type": "code",
   "execution_count": null,
   "id": "47c19b27-0901-44a1-9eab-ffba182b8c16",
   "metadata": {},
   "outputs": [],
   "source": []
  },
  {
   "cell_type": "markdown",
   "id": "51fcd4e0-8c51-4c5b-9ff0-5aa2eed7ad0c",
   "metadata": {},
   "source": [
    "Q5. Replace the data present in the second row of column, ‘column_2’ by a string variable then find the\n",
    "mean of column, column_2.\n",
    "If you are getting errors in executing it then explain why.\n",
    "[Hint: To replace the data use df1.loc[] and equate this to string data of your choice.]"
   ]
  },
  {
   "cell_type": "code",
   "execution_count": 4,
   "id": "9302e07c-3d8b-4f0e-af38-265f38d09bb0",
   "metadata": {},
   "outputs": [
    {
     "name": "stdout",
     "output_type": "stream",
     "text": [
      "Error: unsupported operand type(s) for +: 'float' and 'str'\n",
      "Mean of column_2:\n",
      " 0.641652228154469\n"
     ]
    }
   ],
   "source": [
    "import pandas as pd\n",
    "import numpy as np\n",
    "\n",
    "columns = ['column_1', 'column_2', 'column_3', 'column_4', 'column_5', 'column_6']\n",
    "indices = [1,2,3,4,5,6]\n",
    "\n",
    "df1 = pd.DataFrame(np.random.rand(6,6), columns=columns, index=indices)\n",
    "\n",
    "# Replacing the data in the second row of 'column_2' with a string variable\n",
    "df1.loc[2, 'column_2'] = 'string_data'\n",
    "\n",
    "# Finding the mean of 'column_2'\n",
    "try:\n",
    "    column_2_mean = df1['column_2'].mean()\n",
    "    print(\"Mean of column_2:\\n\", column_2_mean)\n",
    "except TypeError as e:\n",
    "    print(\"Error:\", e)\n",
    "\n",
    "\n",
    "# Replacing the data in the second row of 'column_2' with a string variable\n",
    "df1.loc[2, 'column_2'] = 'string_data'\n",
    "\n",
    "# Converting 'column_2' to a numeric data type\n",
    "df1['column_2'] = pd.to_numeric(df1['column_2'], errors='coerce')\n",
    "\n",
    "# Finding the mean of 'column_2'\n",
    "column_2_mean = df1['column_2'].mean()\n",
    "print(\"Mean of column_2:\\n\", column_2_mean)"
   ]
  },
  {
   "cell_type": "code",
   "execution_count": null,
   "id": "45358b62-93d4-45eb-abf0-417bf327fa84",
   "metadata": {},
   "outputs": [],
   "source": []
  },
  {
   "cell_type": "markdown",
   "id": "78e1e810-b00c-4a27-993a-e12e5c0118c3",
   "metadata": {},
   "source": [
    "Q6. What do you understand about the windows function in pandas and list the types of windows\n",
    "functions?"
   ]
  },
  {
   "cell_type": "markdown",
   "id": "3a6b2569-3262-4f06-a64f-b745842c01d6",
   "metadata": {},
   "source": [
    "ANS . In pandas, window functions (also known as rolling or moving functions) are used to perform                  calculations on a sliding window of data.\n",
    "\n",
    "      The types of windows function-\n",
    "      \n",
    "      1. Rolling Functions\n",
    "      2. Expanding Functions\n",
    "      3. Exponentially Weighted Moving Average (EWMA) Functions\n",
    "      4. Binary Window Functions\n",
    "      5. Rolling Apply Functions\n",
    "      6. Rolling Correlation and Covariance Functions\n",
    "      7. Rolling Regression Functions"
   ]
  },
  {
   "cell_type": "markdown",
   "id": "0df5f130-df64-4923-95fc-098f73054777",
   "metadata": {},
   "source": [
    "Q7. Write a code to print only the current month and year at the time of answering this question.\n",
    "[Hint: Use pandas.datetime function]"
   ]
  },
  {
   "cell_type": "code",
   "execution_count": 5,
   "id": "febab368-77c2-4b20-a006-5b6aa5d2a67f",
   "metadata": {},
   "outputs": [
    {
     "name": "stdout",
     "output_type": "stream",
     "text": [
      "August 2023\n"
     ]
    }
   ],
   "source": [
    "import pandas as pd\n",
    "from datetime import datetime\n",
    "\n",
    "current_month_year = datetime.now().strftime('%B %Y')\n",
    "print(current_month_year)"
   ]
  },
  {
   "cell_type": "markdown",
   "id": "3e4e0134-1b4a-4c36-ad7d-249be5106cd2",
   "metadata": {},
   "source": [
    "Q8. Write a Python program that takes in two dates as input (in the format YYYY-MM-DD) and\n",
    "calculates the difference between them in days, hours, and minutes using Pandas time delta. The\n",
    "program should prompt the user to enter the dates and display the result."
   ]
  },
  {
   "cell_type": "code",
   "execution_count": 7,
   "id": "6ebda163-9d28-4b54-9b20-dc0d979e31c5",
   "metadata": {},
   "outputs": [
    {
     "name": "stdin",
     "output_type": "stream",
     "text": [
      "Enter the first date (YYYY-MM-DD):  2004-01-28\n",
      "Enter the second date (YYYY-MM-DD):  2023-08-23\n"
     ]
    },
    {
     "name": "stdout",
     "output_type": "stream",
     "text": [
      "The difference between 2004-01-28 and 2023-08-23 is:\n",
      "7147 days\n",
      "0 hours\n",
      "0 minutes\n"
     ]
    }
   ],
   "source": [
    "import pandas as pd\n",
    "\n",
    "# Prompt the user to enter the first date\n",
    "date1_str = input(\"Enter the first date (YYYY-MM-DD): \")\n",
    "date1 = pd.to_datetime(date1_str)\n",
    "\n",
    "# Prompt the user to enter the second date\n",
    "date2_str = input(\"Enter the second date (YYYY-MM-DD): \")\n",
    "date2 = pd.to_datetime(date2_str)\n",
    "\n",
    "# Calculate the difference between the two dates\n",
    "diff = date2 - date1\n",
    "\n",
    "# Print the result\n",
    "print(\"The difference between\", date1_str, \"and\", date2_str, \"is:\")\n",
    "print(diff.days, \"days\")\n",
    "print(diff.seconds // 3600, \"hours\")\n",
    "print((diff.seconds // 60) % 60, \"minutes\")"
   ]
  },
  {
   "cell_type": "code",
   "execution_count": null,
   "id": "b2adeb3f-d8e5-4948-9a61-770833e77e64",
   "metadata": {},
   "outputs": [],
   "source": []
  },
  {
   "cell_type": "markdown",
   "id": "85db3fe0-650e-4c4d-b5d8-663fb4da275a",
   "metadata": {},
   "source": [
    "Q9. Write a Python program that reads a CSV file containing categorical data and converts a specified\n",
    "column to a categorical data type. The program should prompt the user to enter the file path, column\n",
    "name, and category order, and then display the sorted data."
   ]
  },
  {
   "cell_type": "code",
   "execution_count": 1,
   "id": "2c7ea7c5-499b-4c64-a5b1-69bde3ffdd33",
   "metadata": {},
   "outputs": [
    {
     "name": "stdin",
     "output_type": "stream",
     "text": [
      "Enter the file path:  players_data.csv\n",
      "Enter the column name to convert to categorical data:  Pos\n",
      "Enter the category order (comma-separated):  \"PF, SG, C\"\n"
     ]
    },
    {
     "name": "stdout",
     "output_type": "stream",
     "text": [
      "      Rk          Player  Pos Age   Tm   G  GS    MP   FG  FGA  ...   FT%  \\\n",
      "0      1      Quincy Acy  NaN  24  NYK  68  22  1287  152  331  ...  .784   \n",
      "1      2    Jordan Adams  NaN  20  MEM  30   0   248   35   86  ...  .609   \n",
      "2      3    Steven Adams  NaN  21  OKC  70  67  1771  217  399  ...  .502   \n",
      "3      4     Jeff Adrien  NaN  28  MIN  17   0   215   19   44  ...  .579   \n",
      "4      5   Arron Afflalo  NaN  29  TOT  78  72  2502  375  884  ...  .843   \n",
      "..   ...             ...  ...  ..  ...  ..  ..   ...  ...  ...  ...   ...   \n",
      "670  490  Thaddeus Young  NaN  26  TOT  76  68  2434  451  968  ...  .655   \n",
      "671  490  Thaddeus Young  NaN  26  MIN  48  48  1605  289  641  ...  .682   \n",
      "672  490  Thaddeus Young  NaN  26  BRK  28  20   829  162  327  ...  .606   \n",
      "673  491     Cody Zeller  NaN  22  CHO  62  45  1487  172  373  ...  .774   \n",
      "674  492    Tyler Zeller  NaN  25  BOS  82  59  1731  340  619  ...  .823   \n",
      "\n",
      "     ORB  DRB  TRB  AST  STL BLK  TOV   PF   PTS  \n",
      "0     79  222  301   68   27  22   60  147   398  \n",
      "1      9   19   28   16   16   7   14   24    94  \n",
      "2    199  324  523   66   38  86   99  222   537  \n",
      "3     23   54   77   15    4   9    9   30    60  \n",
      "4     27  220  247  129   41   7  116  167  1035  \n",
      "..   ...  ...  ...  ...  ...  ..  ...  ...   ...  \n",
      "670  127  284  411  173  124  25  117  171  1071  \n",
      "671   75  170  245  135   86  17   75  115   685  \n",
      "672   52  114  166   38   38   8   42   56   386  \n",
      "673   97  265  362  100   34  49   62  156   472  \n",
      "674  146  319  465  113   18  52   76  205   833  \n",
      "\n",
      "[675 rows x 30 columns]\n"
     ]
    }
   ],
   "source": [
    "import pandas as pd\n",
    "\n",
    "# Prompt the user to enter the file path\n",
    "file_path = input(\"Enter the file path: \")\n",
    "\n",
    "# Read the CSV file into a Pandas DataFrame\n",
    "df = pd.read_csv(file_path)\n",
    "\n",
    "# Prompt the user to enter the column name and category order\n",
    "col_name = input(\"Enter the column name to convert to categorical data: \")\n",
    "cat_order = input(\"Enter the category order (comma-separated): \").split(\",\")\n",
    "\n",
    "# Convert the specified column to categorical data type with the specified category order\n",
    "df[col_name] = pd.Categorical(df[col_name], categories=cat_order, ordered=True)\n",
    "\n",
    "# Sort the DataFrame by the specified column\n",
    "df = df.sort_values(col_name)\n",
    "\n",
    "# Display the sorted data\n",
    "print(df)"
   ]
  },
  {
   "cell_type": "code",
   "execution_count": null,
   "id": "f329fe14-3610-45b8-a7c9-dcad69fe572d",
   "metadata": {},
   "outputs": [],
   "source": []
  },
  {
   "cell_type": "markdown",
   "id": "dd8ae58a-544e-408d-94ab-74d52f143db4",
   "metadata": {},
   "source": [
    "Q10. Write a Python program that reads a CSV file containing sales data for different products and\n",
    "visualizes the data using a stacked bar chart to show the sales of each product category over time. The\n",
    "program should prompt the user to enter the file path and display the chart."
   ]
  },
  {
   "cell_type": "code",
   "execution_count": 2,
   "id": "3a91e670-8789-4ab5-b57c-60022e96610f",
   "metadata": {},
   "outputs": [
    {
     "name": "stdin",
     "output_type": "stream",
     "text": [
      "Enter the file path:  Sales_Data.csv\n"
     ]
    },
    {
     "data": {
      "image/png": "[encoded data removed]",
      "text/plain": [
       "<Figure size 640x480 with 1 Axes>"
      ]
     },
     "metadata": {},
     "output_type": "display_data"
    }
   ],
   "source": [
    "import pandas as pd\n",
    "import matplotlib.pyplot as plt\n",
    "\n",
    "# Prompt user for file path\n",
    "file_path = input(\"Enter the file path: \")\n",
    "\n",
    "# Read CSV file into a pandas dataframe\n",
    "sales_df = pd.read_csv(file_path)\n",
    "\n",
    "# Convert date column to datetime format\n",
    "sales_df['Date'] = pd.to_datetime(sales_df['Date'])\n",
    "\n",
    "# Group sales by product category and date\n",
    "grouped_sales = sales_df.groupby(['Category', 'Date'])['Sales'].sum().unstack()\n",
    "\n",
    "# Create stacked bar chart\n",
    "grouped_sales.plot(kind='bar', stacked=True)\n",
    "\n",
    "# Set chart title and axis labels\n",
    "plt.title('Sales by Product Category over Time')\n",
    "plt.xlabel('Category')\n",
    "plt.ylabel('Sales')\n",
    "\n",
    "# Display chart\n",
    "plt.show()"
   ]
  },
  {
   "cell_type": "markdown",
   "id": "c05188f5-6254-4456-939f-a3c6686a3770",
   "metadata": {},
   "source": [
    "Q11. You are given a CSV file containing student data that includes the student ID and their test score. Write\n",
    "a Python program that reads the CSV file, calculates the mean, median, and mode of the test scores, and\n",
    "displays the results in a table.\n",
    "\n",
    "The program should do the following:\n",
    "1. Prompt the user to enter the file path of the CSV file containing the student data.\n",
    "2. Read the CSV file into a Pandas DataFrame.\n",
    "3. Calculate the mean, median, and mode of the test scores using Pandas tools.\n",
    "4. Display the mean, median, and mode in a table."
   ]
  },
  {
   "cell_type": "code",
   "execution_count": 5,
   "id": "34524fed-7eb9-4321-81bb-4750a1356809",
   "metadata": {},
   "outputs": [
    {
     "name": "stdout",
     "output_type": "stream",
     "text": [
      "Collecting tabulate\n",
      "  Downloading tabulate-0.9.0-py3-none-any.whl (35 kB)\n",
      "Installing collected packages: tabulate\n",
      "Successfully installed tabulate-0.9.0\n",
      "Note: you may need to restart the kernel to use updated packages.\n"
     ]
    }
   ],
   "source": [
    "pip install tabulate"
   ]
  },
  {
   "cell_type": "code",
   "execution_count": 17,
   "id": "347d48d5-9ea7-436b-8c39-9f2e910e54ef",
   "metadata": {},
   "outputs": [
    {
     "name": "stdin",
     "output_type": "stream",
     "text": [
      "Enter the file path of the CSV file containing the student data:  student_data.csv\n"
     ]
    },
    {
     "name": "stdout",
     "output_type": "stream",
     "text": [
      "Statistic      Value\n",
      "-----------  -------\n",
      "Mean            83.5\n",
      "Median          85\n",
      "Mode            85\n"
     ]
    }
   ],
   "source": [
    "import pandas as pd\n",
    "from tabulate import tabulate\n",
    "\n",
    "# Prompt user for file path\n",
    "file_path = input(\"Enter the file path of the CSV file containing the student data: \")\n",
    "\n",
    "# Read CSV file into a pandas dataframe\n",
    "student_df = pd.read_csv(file_path)\n",
    "\n",
    "# Calculate mean, median, and mode of test scores\n",
    "mean_score = student_df['Test Score'].mean()\n",
    "median_score = student_df['Test Score'].median()\n",
    "mode_score = student_df['Test Score'].mode()\n",
    "\n",
    "# Create table of results\n",
    "results_table = [[\"Mean\", mean_score], [\"Median\", median_score], [\"Mode\", ', '.join(map(str, mode_score.tolist()))]]\n",
    "\n",
    "# Display table\n",
    "print(tabulate(results_table, headers=[\"Statistic\", \"Value\"]))"
   ]
  },
  {
   "cell_type": "code",
   "execution_count": null,
   "id": "22ad6506-87f1-4c38-9c48-6d25946f87fb",
   "metadata": {},
   "outputs": [],
   "source": []
  }
 ],
 "metadata": {
  "kernelspec": {
   "display_name": "Python 3 (ipykernel)",
   "language": "python",
   "name": "python3"
  },
  "language_info": {
   "codemirror_mode": {
    "name": "ipython",
    "version": 3
   },
   "file_extension": ".py",
   "mimetype": "text/x-python",
   "name": "python",
   "nbconvert_exporter": "python",
   "pygments_lexer": "ipython3",
   "version": "3.10.8"
  }
 },
 "nbformat": 4,
 "nbformat_minor": 5
}
