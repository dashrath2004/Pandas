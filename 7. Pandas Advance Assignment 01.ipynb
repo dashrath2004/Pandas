{
 "cells": [
  {
   "cell_type": "code",
   "execution_count": 1,
   "id": "8bc6cf4b-2895-4ed7-bbe1-f18a7bfb549b",
   "metadata": {},
   "outputs": [],
   "source": [
    "import pandas as pd"
   ]
  },
  {
   "cell_type": "code",
   "execution_count": 2,
   "id": "fe16c03a-0bce-4ab4-b380-d15881ae0c93",
   "metadata": {},
   "outputs": [
    {
     "name": "stdout",
     "output_type": "stream",
     "text": [
      "Requirement already satisfied: pandas in /opt/conda/lib/python3.10/site-packages (1.5.2)\n",
      "Requirement already satisfied: python-dateutil>=2.8.1 in /opt/conda/lib/python3.10/site-packages (from pandas) (2.8.2)\n",
      "Requirement already satisfied: pytz>=2020.1 in /opt/conda/lib/python3.10/site-packages (from pandas) (2022.6)\n",
      "Requirement already satisfied: numpy>=1.21.0 in /opt/conda/lib/python3.10/site-packages (from pandas) (1.23.5)\n",
      "Requirement already satisfied: six>=1.5 in /opt/conda/lib/python3.10/site-packages (from python-dateutil>=2.8.1->pandas) (1.16.0)\n",
      "Note: you may need to restart the kernel to use updated packages.\n"
     ]
    }
   ],
   "source": [
    "pip install pandas"
   ]
  },
  {
   "cell_type": "markdown",
   "id": "4c73aef8-34a9-4a20-9188-cc09a2cd1cb1",
   "metadata": {},
   "source": [
    "Q1. List any five functions of the pandas library with execution."
   ]
  },
  {
   "cell_type": "markdown",
   "id": "1446478a-7c40-4a02-ac5e-09beb436c2f5",
   "metadata": {},
   "source": [
    "ANS : Pandas is a Python library that is used to analyze data. It has many functions for data manipulation, analysis, and visualization. Here are five examples of pandas functions with execution:"
   ]
  },
  {
   "cell_type": "markdown",
   "id": "679b0452-8830-4aa3-83f2-adf9028bb5a8",
   "metadata": {},
   "source": [
    "1. Pd.DataFrame(): This function creates a two-dimensional data structure with labeled      rows and columns. You can pass a dictionary or a list of lists as the data argument.      For example:"
   ]
  },
  {
   "cell_type": "code",
   "execution_count": 3,
   "id": "84b7c8d7-dfd5-487d-8838-302ec73f1dab",
   "metadata": {},
   "outputs": [
    {
     "name": "stdout",
     "output_type": "stream",
     "text": [
      "   A  B\n",
      "0  1  4\n",
      "1  2  5\n",
      "2  3  6\n"
     ]
    }
   ],
   "source": [
    "import pandas as pd\n",
    "df = pd.DataFrame({'A': [1, 2, 3], 'B': [4, 5, 6]})\n",
    "print(df)"
   ]
  },
  {
   "cell_type": "markdown",
   "id": "8e8c55d8-5d68-4678-85e7-94125e5a2889",
   "metadata": {},
   "source": [
    "2. Pd.Series(): This function creates a one-dimensional data structure with labeled          elements. You can pass a list, a tuple, a dictionary or a scalar value as the data        argument. For example:"
   ]
  },
  {
   "cell_type": "code",
   "execution_count": 4,
   "id": "a0f1c2aa-cc7e-44db-bb5d-206708e7c954",
   "metadata": {},
   "outputs": [
    {
     "name": "stdout",
     "output_type": "stream",
     "text": [
      "a    10\n",
      "b    20\n",
      "c    30\n",
      "dtype: int64\n"
     ]
    }
   ],
   "source": [
    "import pandas as pd\n",
    "s = pd.Series([10, 20, 30], index=['a', 'b', 'c'])\n",
    "print(s)"
   ]
  },
  {
   "cell_type": "markdown",
   "id": "4fb071c1-ead2-4b58-8e57-f10b3ae2f70f",
   "metadata": {},
   "source": [
    "3. Pd.concat(): This function concatenates pandas objects along a specified axis. You can    pass a list or a dictionary of Series or DataFrame objects as the objs argument. For      example:"
   ]
  },
  {
   "cell_type": "code",
   "execution_count": 5,
   "id": "4fc663f7-aa5e-42c1-b31b-2c0784a8519d",
   "metadata": {},
   "outputs": [
    {
     "name": "stdout",
     "output_type": "stream",
     "text": [
      "0    1\n",
      "1    2\n",
      "2    3\n",
      "0    4\n",
      "1    5\n",
      "2    6\n",
      "dtype: int64\n"
     ]
    }
   ],
   "source": [
    "import pandas as pd\n",
    "s1 = pd.Series([1, 2, 3])\n",
    "s2 = pd.Series([4, 5, 6])\n",
    "s3 = pd.concat([s1, s2], axis=0)\n",
    "print(s3)"
   ]
  },
  {
   "cell_type": "markdown",
   "id": "c8f39399-494b-4412-9c39-19716b4189b2",
   "metadata": {},
   "source": [
    "4. Pd.unique(): This function is used to get unique values of the Series object. Uniques are      returned in order of appearance. For examples:"
   ]
  },
  {
   "cell_type": "code",
   "execution_count": 6,
   "id": "68125727-d79b-42b4-a416-6a3d79db657b",
   "metadata": {},
   "outputs": [
    {
     "data": {
      "text/plain": [
       "array([2, 1, 3])"
      ]
     },
     "execution_count": 6,
     "metadata": {},
     "output_type": "execute_result"
    }
   ],
   "source": [
    "pd.unique(pd.Series([2, 1, 3, 3]))"
   ]
  },
  {
   "cell_type": "markdown",
   "id": "4e2c1dbe-8f07-4627-b036-72ee26de115d",
   "metadata": {},
   "source": [
    "5. Pd.date_range(): This function is usede to get a fixed frequency DatetimeIndex. For        examples:"
   ]
  },
  {
   "cell_type": "code",
   "execution_count": 7,
   "id": "ce5c8f1b-fbc7-49c2-b012-079f14315330",
   "metadata": {},
   "outputs": [
    {
     "data": {
      "text/plain": [
       "DatetimeIndex(['2021-01-01', '2021-01-02', '2021-01-03', '2021-01-04',\n",
       "               '2021-01-05', '2021-01-06', '2021-01-07', '2021-01-08'],\n",
       "              dtype='datetime64[ns]', freq='D')"
      ]
     },
     "execution_count": 7,
     "metadata": {},
     "output_type": "execute_result"
    }
   ],
   "source": [
    "pd.date_range(start='1/1/2021', end='1/08/2021')"
   ]
  },
  {
   "cell_type": "raw",
   "id": "c9827ba1-6833-4f3c-a656-f2147d3df62f",
   "metadata": {},
   "source": []
  },
  {
   "cell_type": "markdown",
   "id": "afe6c654-18a1-4be0-ba65-df3ed9388696",
   "metadata": {},
   "source": [
    "Q2. Given a Pandas DataFrame df with columns 'A', 'B', and 'C', write a Python function to re-index the\n",
    "DataFrame with a new index that starts from 1 and increments by 2 for each row."
   ]
  },
  {
   "cell_type": "code",
   "execution_count": 8,
   "id": "07ff30c0-4b9d-4099-a6cc-4c8dbc181cfe",
   "metadata": {},
   "outputs": [
    {
     "name": "stdout",
     "output_type": "stream",
     "text": [
      "     A    B    C\n",
      "1  2.0  5.0  8.0\n",
      "3  NaN  NaN  NaN\n",
      "5  NaN  NaN  NaN\n"
     ]
    }
   ],
   "source": [
    "import pandas as pd\n",
    "import numpy as np\n",
    "\n",
    "#Create a sample DataFrame\n",
    "df = pd.DataFrame({'A': [1, 2, 3], 'B': [4, 5, 6], 'C': [7, 8, 9]})\n",
    "\n",
    "#Create a new index array that starts from 1 and increments by 2\n",
    "new_index = np.arange(1, len(df)*2 + 1, 2)\n",
    "\n",
    "#Reindex the DataFrame with the new index array\n",
    "df = df.reindex(new_index)\n",
    "\n",
    "#Display the DataFrame\n",
    "print(df)\n"
   ]
  },
  {
   "cell_type": "raw",
   "id": "cb71ec3f-19a6-4bae-b0b0-3479ec08b52e",
   "metadata": {},
   "source": []
  },
  {
   "cell_type": "markdown",
   "id": "9e595830-dfbf-4593-ab8e-ffc48d213dba",
   "metadata": {},
   "source": [
    "Q3. You have a Pandas DataFrame df with a column named 'Values'. Write a Python function that\n",
    "iterates over the DataFrame and calculates the sum of the first three values in the 'Values' column. The\n",
    "function should print the sum to the console.\n",
    "For example, if the 'Values' column of df contains the values [10, 20, 30, 40, 50], your function should\n",
    "calculate and print the sum of the first three values, which is 60."
   ]
  },
  {
   "cell_type": "code",
   "execution_count": 1,
   "id": "8f1f5c13-7c99-4ae8-8053-888f5adaed4f",
   "metadata": {},
   "outputs": [
    {
     "name": "stdout",
     "output_type": "stream",
     "text": [
      "Sum of the first three values in 'Values' column:  60\n"
     ]
    }
   ],
   "source": [
    "import pandas as pd\n",
    "\n",
    "def calculate_sum_of_first_three(df):\n",
    "    values_col = df['Values']\n",
    "    values_sum = sum(values_col[:3])\n",
    "    print(\"Sum of the first three values in 'Values' column: \", values_sum)\n",
    "\n",
    "df = pd.DataFrame({'Values': [10, 20, 30, 40, 50]})\n",
    "calculate_sum_of_first_three(df)"
   ]
  },
  {
   "cell_type": "markdown",
   "id": "e9af612f-eba8-49de-9ec9-f7e71a222fff",
   "metadata": {},
   "source": [
    "Q4. Given a Pandas DataFrame df with a column 'Text', write a Python function to create a new column\n",
    "'Word_Count' that contains the number of words in each row of the 'Text' column."
   ]
  },
  {
   "cell_type": "code",
   "execution_count": 2,
   "id": "dc5e4955-94f1-4325-901d-ef580853dda9",
   "metadata": {},
   "outputs": [
    {
     "name": "stdout",
     "output_type": "stream",
     "text": [
      "             Text  Word_Count\n",
      "0  This is a test           4\n",
      "1     Hello world           2\n"
     ]
    }
   ],
   "source": [
    "import pandas as pd\n",
    "\n",
    "def add_word_count(df):\n",
    "    df['Word_Count'] = df['Text'].apply(lambda x: len(str(x).split()))\n",
    "    return df\n",
    "\n",
    "df = pd.DataFrame({'Text': ['This is a test', 'Hello world']})\n",
    "df = add_word_count(df)\n",
    "print(df)"
   ]
  },
  {
   "cell_type": "code",
   "execution_count": null,
   "id": "8c9954fc-f63f-49e9-aebe-2961ab741340",
   "metadata": {},
   "outputs": [],
   "source": []
  },
  {
   "cell_type": "markdown",
   "id": "28ff2da7-1b23-4ea1-97aa-0dc705ad8511",
   "metadata": {},
   "source": [
    "Q5. How are DataFrame.size() and DataFrame.shape() different?"
   ]
  },
  {
   "cell_type": "markdown",
   "id": "8f0ba190-60e9-404d-af8d-bcecf79db58e",
   "metadata": {},
   "source": [
    "ANS : DataFrame.size() and DataFrame.shape() are different in the following ways:\n",
    "\n",
    "DataFrame.size() returns the number of elements in the DataFrame, which is the product of the number of rows and columns.\n",
    "\n",
    "DataFrame.shape() returns a tuple representing the dimensionality of the DataFrame, which is the number of rows and columns as (rows, columns)."
   ]
  },
  {
   "cell_type": "code",
   "execution_count": 3,
   "id": "dd79a8a4-9012-4930-b983-fbbc81693c9f",
   "metadata": {},
   "outputs": [
    {
     "name": "stdout",
     "output_type": "stream",
     "text": [
      "6\n",
      "(3, 2)\n"
     ]
    }
   ],
   "source": [
    "import pandas as pd\n",
    "df = pd.DataFrame({'A': [1, 2, 3], 'B': [4, 5, 6]})\n",
    "print(df.size)\n",
    "\n",
    "import pandas as pd\n",
    "df = pd.DataFrame({'A': [1, 2, 3], 'B': [4, 5, 6]})\n",
    "print(df.shape)"
   ]
  },
  {
   "cell_type": "markdown",
   "id": "cff2c549-ffe2-468d-93f2-6c2019e59345",
   "metadata": {},
   "source": []
  },
  {
   "cell_type": "markdown",
   "id": "502b9572-454e-422a-ab58-e520ebb1e895",
   "metadata": {},
   "source": [
    "Q6. Which function of pandas do we use to read an excel file?"
   ]
  },
  {
   "cell_type": "markdown",
   "id": "e28ed3e7-e52f-415d-b53d-ec1f0e7790bb",
   "metadata": {},
   "source": [
    "ANS : To read an Excel file in Pandas, we use the read_excel() function."
   ]
  },
  {
   "cell_type": "markdown",
   "id": "448282f9-7d57-42c3-a902-867f758effec",
   "metadata": {},
   "source": [
    "Q7. You have a Pandas DataFrame df that contains a column named 'Email' that contains email\n",
    "addresses in the format 'username@domain.com'. Write a Python function that creates a new column\n",
    "'Username' in df that contains only the username part of each email address.\n",
    "\n",
    "The username is the part of the email address that appears before the '@' symbol. For example, if the\n",
    "email address is 'john.doe@example.com', the 'Username' column should contain 'john.doe'. Your\n",
    "function should extract the username from each email address and store it in the new 'Username'\n",
    "column."
   ]
  },
  {
   "cell_type": "code",
   "execution_count": 5,
   "id": "4797c095-5d90-4a50-96fc-a8271a1c0ed7",
   "metadata": {},
   "outputs": [
    {
     "name": "stdout",
     "output_type": "stream",
     "text": [
      "                        Email        Username\n",
      "0  Dashrath.Singh@example.com  Dashrath.Singh\n",
      "1      Monu.Singh@example.com      Monu.Singh\n"
     ]
    }
   ],
   "source": [
    "import pandas as pd\n",
    "\n",
    "def add_username(df):\n",
    "    df['Username'] = df['Email'].apply(lambda x: x.split('@')[0])\n",
    "    return df\n",
    "\n",
    "df = pd.DataFrame({'Email': ['Dashrath.Singh@example.com', 'Monu.Singh@example.com']})\n",
    "df = add_username(df)\n",
    "print(df)"
   ]
  },
  {
   "cell_type": "code",
   "execution_count": null,
   "id": "a6bc0afe-0046-4ffd-8084-26da759e8883",
   "metadata": {},
   "outputs": [],
   "source": []
  },
  {
   "cell_type": "markdown",
   "id": "8f2a8f28-5e40-4652-93e1-b31165aaaa05",
   "metadata": {},
   "source": [
    "Q8. You have a Pandas DataFrame df with columns 'A', 'B', and 'C'. Write a Python function that selects\n",
    "all rows where the value in column 'A' is greater than 5 and the value in column 'B' is less than 10. The\n",
    "function should return a new DataFrame that contains only the selected rows.\n",
    "For example, if df contains the following values:\n",
    "A B C\n",
    "0 3 5 1\n",
    "1 8 2 7\n",
    "2 6 9 4\n",
    "3 2 3 5\n",
    "4 9 1 2\n",
    "\n",
    "Your function should select the following rows: A B C\n",
    "1 8 2 7\n",
    "4 9 1 2\n",
    "The function should return a new DataFrame that contains only the selected rows."
   ]
  },
  {
   "cell_type": "code",
   "execution_count": 7,
   "id": "2bfd8878-b9d0-4c81-a9a0-c062a7613523",
   "metadata": {},
   "outputs": [
    {
     "name": "stdout",
     "output_type": "stream",
     "text": [
      "   A  B  C\n",
      "1  8  2  7\n",
      "2  6  9  4\n",
      "4  9  1  2\n"
     ]
    }
   ],
   "source": [
    "import pandas as pd\n",
    "\n",
    "def select_rows(df):\n",
    "    selected_df = df[(df['A'] > 5) & (df['B'] < 10)]\n",
    "    return selected_df\n",
    "\n",
    "# create the sample DataFrame\n",
    "df = pd.DataFrame({\n",
    "    'A': [3, 8, 6, 2, 9],\n",
    "    'B': [5, 2, 9, 3, 1],\n",
    "    'C': [1, 7, 4, 5, 2]\n",
    "})\n",
    "\n",
    "# call the function to select rows where A > 5 and B < 10\n",
    "selected_df = select_rows(df)\n",
    "\n",
    "# print the selected rows\n",
    "print(selected_df)"
   ]
  },
  {
   "cell_type": "code",
   "execution_count": null,
   "id": "27884337-80c2-4740-8df9-8110c178ccfc",
   "metadata": {},
   "outputs": [],
   "source": []
  },
  {
   "cell_type": "markdown",
   "id": "d147ac95-4069-4c63-ad93-cbe60567830c",
   "metadata": {},
   "source": [
    "Q9. Given a Pandas DataFrame df with a column 'Values', write a Python function to calculate the mean,\n",
    "median, and standard deviation of the values in the 'Values' column."
   ]
  },
  {
   "cell_type": "code",
   "execution_count": 1,
   "id": "298ae692-5270-4eeb-869b-057cc2802113",
   "metadata": {},
   "outputs": [
    {
     "name": "stdout",
     "output_type": "stream",
     "text": [
      "Mean: 3.0, Median: 3.0, Std: 1.5811388300841898\n"
     ]
    }
   ],
   "source": [
    "import pandas as pd\n",
    "\n",
    "def calculate_stats(df):\n",
    "    values_mean = df['Values'].mean()\n",
    "    values_median = df['Values'].median()\n",
    "    values_std = df['Values'].std()\n",
    "    return values_mean, values_median, values_std\n",
    "\n",
    "# create a sample DataFrame\n",
    "df = pd.DataFrame({'Values': [1, 2, 3, 4, 5]})\n",
    "\n",
    "# call the function to calculate stats\n",
    "mean, median, std = calculate_stats(df)\n",
    "\n",
    "# print the results\n",
    "print(f\"Mean: {mean}, Median: {median}, Std: {std}\")"
   ]
  },
  {
   "cell_type": "raw",
   "id": "a8b4e5e4-0b3c-4934-a935-7ba14b2ab039",
   "metadata": {},
   "source": []
  },
  {
   "cell_type": "markdown",
   "id": "e8c43135-bb70-408d-94d3-b21085a23231",
   "metadata": {},
   "source": [
    "Q10. Given a Pandas DataFrame df with a column 'Sales' and a column 'Date', write a Python function to\n",
    "create a new column 'MovingAverage' that contains the moving average of the sales for the past 7 days\n",
    "for each row in the DataFrame. The moving average should be calculated using a window of size 7 and\n",
    "should include the current day."
   ]
  },
  {
   "cell_type": "code",
   "execution_count": 2,
   "id": "0486a616-9d82-433f-ba56-971f99ee3dc6",
   "metadata": {},
   "outputs": [
    {
     "name": "stdout",
     "output_type": "stream",
     "text": [
      "         Date  Sales  MovingAverage\n",
      "0  2022-01-01    100          100.0\n",
      "1  2022-01-02    150          125.0\n",
      "2  2022-01-03    200          150.0\n",
      "3  2022-01-04    250          175.0\n",
      "4  2022-01-05    300          200.0\n",
      "5  2022-01-06    350          225.0\n",
      "6  2022-01-07    400          250.0\n",
      "7  2022-01-08    450          300.0\n",
      "8  2022-01-09    500          350.0\n",
      "9  2022-01-10    550          400.0\n",
      "10 2022-01-11    600          450.0\n",
      "11 2022-01-12    650          500.0\n",
      "12 2022-01-13    700          550.0\n",
      "13 2022-01-14    750          600.0\n",
      "14 2022-01-15    800          650.0\n"
     ]
    }
   ],
   "source": [
    "import pandas as pd\n",
    "\n",
    "def add_moving_average_column(df):\n",
    "    df['MovingAverage'] = df['Sales'].rolling(window=7, min_periods=1).mean()\n",
    "    return df\n",
    "\n",
    "# create sample DataFrame\n",
    "df = pd.DataFrame({\n",
    "    'Date': pd.date_range(start='2022-01-01', end='2022-01-15'),\n",
    "    'Sales': [100, 150, 200, 250, 300, 350, 400, 450, 500, 550, 600, 650, 700, 750, 800]\n",
    "})\n",
    "\n",
    "# add moving average column to DataFrame\n",
    "df = add_moving_average_column(df)\n",
    "\n",
    "# print DataFrame with new column\n",
    "print(df)"
   ]
  },
  {
   "cell_type": "code",
   "execution_count": null,
   "id": "edee1da8-5117-4c09-9c24-48b641755a9d",
   "metadata": {},
   "outputs": [],
   "source": []
  },
  {
   "cell_type": "markdown",
   "id": "79ded706-792f-49fd-a946-495df776a6e6",
   "metadata": {},
   "source": [
    "Q11. You have a Pandas DataFrame df with a column 'Date'. Write a Python function that creates a new\n",
    "column 'Weekday' in the DataFrame. The 'Weekday' column should contain the weekday name (e.g.\n",
    "Monday, Tuesday) corresponding to each date in the 'Date' column.\n",
    "\n",
    "For example, if df contains the following values:\n",
    "Date\n",
    "0 2023-01-01\n",
    "1 2023-01-02\n",
    "2 2023-01-03\n",
    "3 2023-01-04\n",
    "4 2023-01-05\n",
    "\n",
    "Your function should create the following DataFrame:\n",
    "\n",
    "Date Weekday\n",
    "0 2023-01-01 Sunday\n",
    "1 2023-01-02 Monday\n",
    "2 2023-01-03 Tuesday\n",
    "3 2023-01-04 Wednesday\n",
    "4 2023-01-05 Thursday\n",
    "\n",
    "The function should return the modified DataFrame."
   ]
  },
  {
   "cell_type": "code",
   "execution_count": 3,
   "id": "57236e42-0034-4c05-9ec8-cb2027515982",
   "metadata": {},
   "outputs": [
    {
     "name": "stdout",
     "output_type": "stream",
     "text": [
      "        Date    Weekday\n",
      "0 2023-01-01     Sunday\n",
      "1 2023-01-02     Monday\n",
      "2 2023-01-03    Tuesday\n",
      "3 2023-01-04  Wednesday\n",
      "4 2023-01-05   Thursday\n"
     ]
    }
   ],
   "source": [
    "import pandas as pd\n",
    "\n",
    "def add_weekday_column(df):\n",
    "    df['Weekday'] = df['Date'].dt.day_name()\n",
    "    return df\n",
    "\n",
    "# create sample DataFrame\n",
    "df = pd.DataFrame({\n",
    "    'Date': pd.date_range(start='2023-01-01', end='2023-01-05')\n",
    "})\n",
    "\n",
    "# add weekday column to DataFrame\n",
    "df = add_weekday_column(df)\n",
    "\n",
    "# print DataFrame with new column\n",
    "print(df)"
   ]
  },
  {
   "cell_type": "code",
   "execution_count": null,
   "id": "6b82ef73-f1e8-4e42-8308-9b71a16aa97b",
   "metadata": {},
   "outputs": [],
   "source": []
  },
  {
   "cell_type": "markdown",
   "id": "770927a8-4295-403a-9171-d93905b46509",
   "metadata": {},
   "source": [
    "Q12. Given a Pandas DataFrame df with a column 'Date' that contains timestamps, write a Python\n",
    "function to select all rows where the date is between '2023-01-01' and '2023-01-31'."
   ]
  },
  {
   "cell_type": "code",
   "execution_count": 5,
   "id": "6a7549b2-5604-4e26-a921-808712c58fbf",
   "metadata": {},
   "outputs": [
    {
     "name": "stdout",
     "output_type": "stream",
     "text": [
      "        Date  Value\n",
      "0 2023-01-01      1\n",
      "1 2023-01-15      2\n",
      "2 2023-01-31      3\n"
     ]
    }
   ],
   "source": [
    "import pandas as pd\n",
    "\n",
    "def select_date_range(df):\n",
    "    mask = df.loc[:, 'Date'].between('2023-01-01', '2023-01-31')\n",
    "    result = df.loc[mask, :]\n",
    "    return result\n",
    "\n",
    "df = pd.DataFrame({'Date': ['2023-01-01', '2023-01-15', '2023-01-31', '2023-02-15'], 'Value': [1, 2, 3, 4]})\n",
    "df['Date'] = pd.to_datetime(df['Date'])\n",
    "result = select_date_range(df)\n",
    "print(result)"
   ]
  },
  {
   "cell_type": "code",
   "execution_count": null,
   "id": "b000cce4-035d-4f76-981e-4b7be247122c",
   "metadata": {},
   "outputs": [],
   "source": []
  },
  {
   "cell_type": "markdown",
   "id": "9d42547d-bb7a-4897-877f-c1b0a2574ad0",
   "metadata": {},
   "source": [
    "Q13. To use the basic functions of pandas, what is the first and foremost necessary library that needs to\n",
    "be imported?"
   ]
  },
  {
   "cell_type": "markdown",
   "id": "3856af71-94da-4e37-a00a-56eaec1ebf8c",
   "metadata": {},
   "source": [
    "ANS : To use the basic functions of Pandas, the first and foremost necessary library that needs to be imported is pandas itself.\n",
    "\n",
    "import pandas as pd"
   ]
  }
 ],
 "metadata": {
  "kernelspec": {
   "display_name": "Python 3 (ipykernel)",
   "language": "python",
   "name": "python3"
  },
  "language_info": {
   "codemirror_mode": {
    "name": "ipython",
    "version": 3
   },
   "file_extension": ".py",
   "mimetype": "text/x-python",
   "name": "python",
   "nbconvert_exporter": "python",
   "pygments_lexer": "ipython3",
   "version": "3.10.8"
  }
 },
 "nbformat": 4,
 "nbformat_minor": 5
}
